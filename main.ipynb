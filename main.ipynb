{
 "cells": [
  {
   "cell_type": "code",
   "execution_count": 1,
   "metadata": {},
   "outputs": [],
   "source": [
    "from cfg import CFG, PCFG\n",
    "from cky import CKY"
   ]
  },
  {
   "cell_type": "code",
   "execution_count": 2,
   "metadata": {},
   "outputs": [
    {
     "name": "stdout",
     "output_type": "stream",
     "text": [
      "Initial CFG:\n",
      " CFG(\n",
      "\tS --> AB\n",
      "\tA --> aAb | ε\n",
      "\tB --> bBc | ε\n",
      ")\n",
      "\n",
      "* Start Symbol: S\n",
      "* Terminal Symbols: {a, b, c, ε}\n",
      "* Non-Terminal Symbols: {S, A, B}\n",
      "\n",
      "Converted CFG to CNF:\n",
      " CFG(\n",
      "\tC --> S | ε\n",
      "\tS --> AB | DG | EF | FG | HF\n",
      "\tA --> EF | HF\n",
      "\tB --> DG | FG\n",
      "\tD --> FB\n",
      "\tE --> HA\n",
      "\tF --> b\n",
      "\tG --> c\n",
      "\tH --> a\n",
      ")\n",
      "\n",
      "* Start Symbol: C\n",
      "* Terminal Symbols: {a, b, c, ε}\n",
      "* Non-Terminal Symbols: {C, S, A, B, D, E, F, G, H}\n",
      "\n"
     ]
    },
    {
     "name": "stderr",
     "output_type": "stream",
     "text": [
      "c:\\Users\\Cai Selvas Sala\\GIA_UPC\\2nC\\2nQ\\PAA\\Practica\\cky-algorithm\\cfg.py:41: UserWarning: The provided CFG is not in CNF. Converting to CNF. Some productions and symbols may change.\n",
      "  warnings.warn(\"The provided CFG is not in CNF. Converting to CNF. Some productions and symbols may change.\", UserWarning)\n"
     ]
    }
   ],
   "source": [
    "cnf = {\n",
    "    'S': ['AB'],\n",
    "    'A': ['aAb', ''],\n",
    "    'B': ['bBc', '']\n",
    "}\n",
    "# Non-ambiguous CFG for {a^i · b^j · c^k | j = i + k}\n",
    "\t\t\t\n",
    "cfg = CFG(cnf, 'S')"
   ]
  },
  {
   "cell_type": "code",
   "execution_count": 3,
   "metadata": {},
   "outputs": [
    {
     "name": "stdout",
     "output_type": "stream",
     "text": [
      "Number of words generated: 10\r"
     ]
    },
    {
     "data": {
      "text/plain": [
       "['aaabbb',\n",
       " 'aabb',\n",
       " 'aabbbc',\n",
       " 'ab',\n",
       " 'abbbcc',\n",
       " 'abbc',\n",
       " 'bbbccc',\n",
       " 'bbcc',\n",
       " 'bc',\n",
       " 'ε']"
      ]
     },
     "execution_count": 3,
     "metadata": {},
     "output_type": "execute_result"
    }
   ],
   "source": [
    "sorted(cfg.generate_words(6))"
   ]
  },
  {
   "cell_type": "code",
   "execution_count": 4,
   "metadata": {},
   "outputs": [],
   "source": [
    "cky = CKY(cfg)"
   ]
  },
  {
   "cell_type": "code",
   "execution_count": 5,
   "metadata": {},
   "outputs": [
    {
     "name": "stdout",
     "output_type": "stream",
     "text": [
      "Init:r of words generated: 10\n",
      " {0: {0: set(), 1: set(), 2: set(), 3: set(), 4: set(), 5: set()}, 1: {0: set(), 1: set(), 2: set(), 3: set(), 4: set()}, 2: {0: set(), 1: set(), 2: set(), 3: set()}, 3: {0: set(), 1: set(), 2: set()}, 4: {0: set(), 1: set()}, 5: {0: set()}}\n"
     ]
    },
    {
     "ename": "KeyError",
     "evalue": "3",
     "output_type": "error",
     "traceback": [
      "\u001b[1;31m---------------------------------------------------------------------------\u001b[0m",
      "\u001b[1;31mKeyError\u001b[0m                                  Traceback (most recent call last)",
      "Cell \u001b[1;32mIn[5], line 4\u001b[0m\n\u001b[0;32m      1\u001b[0m words \u001b[38;5;241m=\u001b[39m \u001b[38;5;28mlist\u001b[39m(\u001b[38;5;28msorted\u001b[39m(cfg\u001b[38;5;241m.\u001b[39mgenerate_words(\u001b[38;5;241m6\u001b[39m)))\n\u001b[0;32m      3\u001b[0m \u001b[38;5;28;01mfor\u001b[39;00m word \u001b[38;5;129;01min\u001b[39;00m words:\n\u001b[1;32m----> 4\u001b[0m \t\u001b[38;5;28mprint\u001b[39m(\u001b[43mcky\u001b[49m\u001b[38;5;241;43m.\u001b[39;49m\u001b[43mparse\u001b[49m\u001b[43m(\u001b[49m\u001b[43mword\u001b[49m\u001b[43m)\u001b[49m)\n",
      "File \u001b[1;32mc:\\Users\\Cai Selvas Sala\\GIA_UPC\\2nC\\2nQ\\PAA\\Practica\\cky-algorithm\\cky.py:67\u001b[0m, in \u001b[0;36mCKY.parse\u001b[1;34m(self, word, grammar, probabilistic)\u001b[0m\n\u001b[0;32m     65\u001b[0m \t\u001b[38;5;28;01mreturn\u001b[39;00m \u001b[38;5;28mself\u001b[39m\u001b[38;5;241m.\u001b[39m__parse_probabilistic(word, grammar)\n\u001b[0;32m     66\u001b[0m \u001b[38;5;28;01melif\u001b[39;00m \u001b[38;5;28misinstance\u001b[39m(grammar, CFG):\n\u001b[1;32m---> 67\u001b[0m \t\u001b[38;5;28;01mreturn\u001b[39;00m \u001b[38;5;28;43mself\u001b[39;49m\u001b[38;5;241;43m.\u001b[39;49m\u001b[43m__parse_deterministic\u001b[49m\u001b[43m(\u001b[49m\u001b[43mword\u001b[49m\u001b[43m,\u001b[49m\u001b[43m \u001b[49m\u001b[43mgrammar\u001b[49m\u001b[43m)\u001b[49m\n\u001b[0;32m     68\u001b[0m \u001b[38;5;28;01melse\u001b[39;00m:\n\u001b[0;32m     69\u001b[0m \t\u001b[38;5;28;01mraise\u001b[39;00m \u001b[38;5;167;01mValueError\u001b[39;00m(\u001b[38;5;124m\"\u001b[39m\u001b[38;5;124mInvalid grammar type. Expected CFG or PCFG.\u001b[39m\u001b[38;5;124m\"\u001b[39m)\n",
      "File \u001b[1;32mc:\\Users\\Cai Selvas Sala\\GIA_UPC\\2nC\\2nQ\\PAA\\Practica\\cky-algorithm\\cky.py:99\u001b[0m, in \u001b[0;36mCKY.__parse_deterministic\u001b[1;34m(self, word, grammar)\u001b[0m\n\u001b[0;32m     97\u001b[0m \t\u001b[38;5;28;01mfor\u001b[39;00m lhs, productions \u001b[38;5;129;01min\u001b[39;00m grammar\u001b[38;5;241m.\u001b[39mget_rules()\u001b[38;5;241m.\u001b[39mitems():\n\u001b[0;32m     98\u001b[0m \t\t\u001b[38;5;28;01mif\u001b[39;00m char \u001b[38;5;129;01min\u001b[39;00m productions:\n\u001b[1;32m---> 99\u001b[0m \t\t\t\u001b[43mtable\u001b[49m\u001b[43m[\u001b[49m\u001b[43mi\u001b[49m\u001b[43m]\u001b[49m\u001b[43m[\u001b[49m\u001b[43mi\u001b[49m\u001b[43m]\u001b[49m\u001b[38;5;241m.\u001b[39madd(lhs)\n\u001b[0;32m    101\u001b[0m \u001b[38;5;28mprint\u001b[39m(\u001b[38;5;124m\"\u001b[39m\u001b[38;5;124mDiagonal:\u001b[39m\u001b[38;5;130;01m\\n\u001b[39;00m\u001b[38;5;124m\"\u001b[39m, table)\n\u001b[0;32m    103\u001b[0m \u001b[38;5;66;03m# Fill the table for non-terminals\u001b[39;00m\n",
      "\u001b[1;31mKeyError\u001b[0m: 3"
     ]
    }
   ],
   "source": [
    "words = list(sorted(cfg.generate_words(6)))\n",
    "print()\n",
    "\n",
    "for word in words:\n",
    "\tprint(cky.parse(word))"
   ]
  },
  {
   "cell_type": "markdown",
   "metadata": {},
   "source": [
    "## PROBABILISTIC"
   ]
  },
  {
   "cell_type": "code",
   "execution_count": null,
   "metadata": {},
   "outputs": [],
   "source": [
    "# Ejemplo de uso:\n",
    "rules = {\n",
    "    'S': [('AB', 0.9), ('BC', 0.1)],\n",
    "    'A': [('BA', 0.5), ('a', 0.5)],\n",
    "    'B': [('CC', 0.7), ('b', 0.3)],\n",
    "    'C': [('AB', 0.6), ('a', 0.4)]\n",
    "}\n",
    "\n",
    "grammar = PCFG(rules, 'S')\n",
    "cky = CKY(grammar)\n",
    "\n",
    "word = \"ab\"\n",
    "probability = cky.parse(word)\n",
    "print(f\"The probability of the word '{word}' being in the language generated by the grammar is {probability}\")"
   ]
  }
 ],
 "metadata": {
  "kernelspec": {
   "display_name": "Python 3",
   "language": "python",
   "name": "python3"
  },
  "language_info": {
   "codemirror_mode": {
    "name": "ipython",
    "version": 3
   },
   "file_extension": ".py",
   "mimetype": "text/x-python",
   "name": "python",
   "nbconvert_exporter": "python",
   "pygments_lexer": "ipython3",
   "version": "3.11.2"
  }
 },
 "nbformat": 4,
 "nbformat_minor": 2
}
