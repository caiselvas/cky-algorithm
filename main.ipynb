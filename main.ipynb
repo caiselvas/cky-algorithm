{
 "cells": [
  {
   "cell_type": "code",
   "execution_count": 6,
   "metadata": {},
   "outputs": [],
   "source": [
    "from cfg import CFG\n",
    "from cky import CKY"
   ]
  },
  {
   "cell_type": "code",
   "execution_count": 7,
   "metadata": {},
   "outputs": [
    {
     "name": "stdout",
     "output_type": "stream",
     "text": [
      "Initial CFG:\n",
      " CFG(\n",
      "\tS --> AB\n",
      "\tA --> aAb | ε\n",
      "\tB --> bBc | ε\n",
      ")\n",
      "\n",
      "* Start Symbol: S\n",
      "* Terminal Symbols: {a, b, c, ε}\n",
      "* Non-Terminal Symbols: {S, A, B}\n",
      "\n",
      "Removed start symbol from RHS: CFG(\n",
      "\tC --> S\n",
      "\tS --> AB\n",
      "\tA --> aAb | ε\n",
      "\tB --> bBc | ε\n",
      ")\n",
      "\n",
      "* Start Symbol: C\n",
      "* Terminal Symbols: {a, b, c, ε}\n",
      "* Non-Terminal Symbols: {C, S, A, B}\n",
      "\n",
      "Removed rules with nonsolitary terminals: CFG(\n",
      "\tC --> S\n",
      "\tS --> AB\n",
      "\tA --> DAE | ε\n",
      "\tB --> EBF | ε\n",
      "\tD --> a\n",
      "\tE --> b\n",
      "\tF --> c\n",
      ")\n",
      "\n",
      "* Start Symbol: C\n",
      "* Terminal Symbols: {a, b, c, ε}\n",
      "* Non-Terminal Symbols: {C, S, A, B, D, E, F}\n",
      "\n",
      "Removed rules with long nonterminals: CFG(\n",
      "\tC --> S\n",
      "\tS --> AB\n",
      "\tA --> GE | ε\n",
      "\tB --> HF | ε\n",
      "\tD --> a\n",
      "\tE --> b\n",
      "\tF --> c\n",
      "\tG --> DA\n",
      "\tH --> EB\n",
      ")\n",
      "\n",
      "* Start Symbol: C\n",
      "* Terminal Symbols: {a, b, c, ε}\n",
      "* Non-Terminal Symbols: {C, S, A, B, D, E, F, G, H}\n",
      "\n",
      "Removed epsilon rules: CFG(\n",
      "\tC --> S | ε\n",
      "\tS --> A | AB | B | ε\n",
      "\tA --> GE\n",
      "\tB --> HF\n",
      "\tD --> a\n",
      "\tE --> b\n",
      "\tF --> c\n",
      "\tG --> D | DA\n",
      "\tH --> E | EB\n",
      ")\n",
      "\n",
      "* Start Symbol: C\n",
      "* Terminal Symbols: {a, b, c, ε}\n",
      "* Non-Terminal Symbols: {C, S, A, B, D, E, F, G, H}\n",
      "\n",
      "Removed unit rules: CFG(\n",
      "\tC --> AB | GE | HF | ε\n",
      "\tA --> GE\n",
      "\tB --> HF\n",
      "\tD --> a\n",
      "\tE --> b\n",
      "\tF --> c\n",
      "\tG --> DA | a\n",
      "\tH --> EB | b\n",
      ")\n",
      "\n",
      "* Start Symbol: C\n",
      "* Terminal Symbols: {a, b, c, ε}\n",
      "* Non-Terminal Symbols: {C, A, B, D, E, F, G, H}\n",
      "\n",
      "Converted CFG to CNF:\n",
      " CFG(\n",
      "\tC --> AB | GE | HF | ε\n",
      "\tA --> GE\n",
      "\tB --> HF\n",
      "\tD --> a\n",
      "\tE --> b\n",
      "\tF --> c\n",
      "\tG --> DA | a\n",
      "\tH --> EB | b\n",
      ")\n",
      "\n",
      "* Start Symbol: C\n",
      "* Terminal Symbols: {a, b, c, ε}\n",
      "* Non-Terminal Symbols: {C, A, B, D, E, F, G, H}\n",
      "\n"
     ]
    }
   ],
   "source": [
    "rules = {\n",
    "    'S': {'AB'},\n",
    "    'A': {'aAb', ''},\n",
    "    'B': {'bBc', ''}\n",
    "}\n",
    "# Non-ambiguous CFG for {a^i · b^j · c^k | j = i + k}\n",
    "\t\t\t\n",
    "cfg = CFG(rules=rules, start_symbol='S')"
   ]
  },
  {
   "cell_type": "code",
   "execution_count": 8,
   "metadata": {},
   "outputs": [
    {
     "name": "stdout",
     "output_type": "stream",
     "text": [
      "Number of words generated: 21\n"
     ]
    },
    {
     "data": {
      "text/plain": [
       "['aaaaabbbbb',\n",
       " 'aaaabbbb',\n",
       " 'aaaabbbbbc',\n",
       " 'aaabbb',\n",
       " 'aaabbbbbcc',\n",
       " 'aaabbbbc',\n",
       " 'aabb',\n",
       " 'aabbbbbccc',\n",
       " 'aabbbbcc',\n",
       " 'aabbbc',\n",
       " 'ab',\n",
       " 'abbbbbcccc',\n",
       " 'abbbbccc',\n",
       " 'abbbcc',\n",
       " 'abbc',\n",
       " 'bbbbbccccc',\n",
       " 'bbbbcccc',\n",
       " 'bbbccc',\n",
       " 'bbcc',\n",
       " 'bc',\n",
       " 'ε']"
      ]
     },
     "execution_count": 8,
     "metadata": {},
     "output_type": "execute_result"
    }
   ],
   "source": [
    "sorted(cfg.generate_words(10))"
   ]
  },
  {
   "cell_type": "code",
   "execution_count": 9,
   "metadata": {},
   "outputs": [],
   "source": [
    "cky = CKY(cfg)"
   ]
  },
  {
   "cell_type": "code",
   "execution_count": 10,
   "metadata": {},
   "outputs": [
    {
     "name": "stdout",
     "output_type": "stream",
     "text": [
      "Number of words generated: 21\n",
      "aaaaabbbbb: True\n",
      "aaaabbbb: True\n",
      "aaaabbbbbc: True\n",
      "aaabbb: True\n",
      "aaabbbbbcc: True\n",
      "aaabbbbc: True\n",
      "aabb: True\n",
      "aabbbbbccc: True\n",
      "aabbbbcc: True\n",
      "aabbbc: True\n",
      "ab: True\n",
      "abbbbbcccc: True\n",
      "abbbbccc: True\n",
      "abbbcc: True\n",
      "abbc: True\n",
      "bbbbbccccc: True\n",
      "bbbbcccc: True\n",
      "bbbccc: True\n",
      "bbcc: True\n",
      "bc: True\n",
      "ε: True\n",
      "True values: 21\n",
      "False values: 0\n"
     ]
    }
   ],
   "source": [
    "words = list(sorted(cfg.generate_words(10)))\n",
    "\n",
    "results = []\n",
    "for word in words:\n",
    "\tresult = cky.parse(word)\n",
    "\tresults.append(result)\n",
    "\tprint(f'{word}: {result}')\n",
    "\n",
    "print(f\"True values: {sum(results)}\\nFalse values: {len(results) - sum(results)}\")\n",
    "\t"
   ]
  },
  {
   "cell_type": "markdown",
   "metadata": {},
   "source": [
    "## PROBABILISTIC"
   ]
  },
  {
   "cell_type": "code",
   "execution_count": 11,
   "metadata": {},
   "outputs": [
    {
     "ename": "NameError",
     "evalue": "name 'PCFG' is not defined",
     "output_type": "error",
     "traceback": [
      "\u001b[1;31m---------------------------------------------------------------------------\u001b[0m",
      "\u001b[1;31mNameError\u001b[0m                                 Traceback (most recent call last)",
      "Cell \u001b[1;32mIn[11], line 9\u001b[0m\n\u001b[0;32m      1\u001b[0m \u001b[38;5;66;03m# Ejemplo de uso:\u001b[39;00m\n\u001b[0;32m      2\u001b[0m rules \u001b[38;5;241m=\u001b[39m {\n\u001b[0;32m      3\u001b[0m     \u001b[38;5;124m'\u001b[39m\u001b[38;5;124mS\u001b[39m\u001b[38;5;124m'\u001b[39m: [(\u001b[38;5;124m'\u001b[39m\u001b[38;5;124mAB\u001b[39m\u001b[38;5;124m'\u001b[39m, \u001b[38;5;241m0.9\u001b[39m), (\u001b[38;5;124m'\u001b[39m\u001b[38;5;124mBC\u001b[39m\u001b[38;5;124m'\u001b[39m, \u001b[38;5;241m0.1\u001b[39m)],\n\u001b[0;32m      4\u001b[0m     \u001b[38;5;124m'\u001b[39m\u001b[38;5;124mA\u001b[39m\u001b[38;5;124m'\u001b[39m: [(\u001b[38;5;124m'\u001b[39m\u001b[38;5;124mBA\u001b[39m\u001b[38;5;124m'\u001b[39m, \u001b[38;5;241m0.5\u001b[39m), (\u001b[38;5;124m'\u001b[39m\u001b[38;5;124ma\u001b[39m\u001b[38;5;124m'\u001b[39m, \u001b[38;5;241m0.5\u001b[39m)],\n\u001b[0;32m      5\u001b[0m     \u001b[38;5;124m'\u001b[39m\u001b[38;5;124mB\u001b[39m\u001b[38;5;124m'\u001b[39m: [(\u001b[38;5;124m'\u001b[39m\u001b[38;5;124mCC\u001b[39m\u001b[38;5;124m'\u001b[39m, \u001b[38;5;241m0.7\u001b[39m), (\u001b[38;5;124m'\u001b[39m\u001b[38;5;124mb\u001b[39m\u001b[38;5;124m'\u001b[39m, \u001b[38;5;241m0.3\u001b[39m)],\n\u001b[0;32m      6\u001b[0m     \u001b[38;5;124m'\u001b[39m\u001b[38;5;124mC\u001b[39m\u001b[38;5;124m'\u001b[39m: [(\u001b[38;5;124m'\u001b[39m\u001b[38;5;124mAB\u001b[39m\u001b[38;5;124m'\u001b[39m, \u001b[38;5;241m0.6\u001b[39m), (\u001b[38;5;124m'\u001b[39m\u001b[38;5;124ma\u001b[39m\u001b[38;5;124m'\u001b[39m, \u001b[38;5;241m0.4\u001b[39m)]\n\u001b[0;32m      7\u001b[0m }\n\u001b[1;32m----> 9\u001b[0m grammar \u001b[38;5;241m=\u001b[39m \u001b[43mPCFG\u001b[49m(rules, \u001b[38;5;124m'\u001b[39m\u001b[38;5;124mS\u001b[39m\u001b[38;5;124m'\u001b[39m)\n\u001b[0;32m     10\u001b[0m cky \u001b[38;5;241m=\u001b[39m CKY(grammar)\n\u001b[0;32m     12\u001b[0m word \u001b[38;5;241m=\u001b[39m \u001b[38;5;124m\"\u001b[39m\u001b[38;5;124mab\u001b[39m\u001b[38;5;124m\"\u001b[39m\n",
      "\u001b[1;31mNameError\u001b[0m: name 'PCFG' is not defined"
     ]
    }
   ],
   "source": [
    "# Ejemplo de uso:\n",
    "rules = {\n",
    "    'S': [('AB', 0.9), ('BC', 0.1)],\n",
    "    'A': [('BA', 0.5), ('a', 0.5)],\n",
    "    'B': [('CC', 0.7), ('b', 0.3)],\n",
    "    'C': [('AB', 0.6), ('a', 0.4)]\n",
    "}\n",
    "\n",
    "grammar = PCFG(rules, 'S')\n",
    "cky = CKY(grammar)\n",
    "\n",
    "word = \"ab\"\n",
    "probability = cky.parse(word)\n",
    "print(f\"The probability of the word '{word}' being in the language generated by the grammar is {probability}\")"
   ]
  }
 ],
 "metadata": {
  "kernelspec": {
   "display_name": "Python 3",
   "language": "python",
   "name": "python3"
  },
  "language_info": {
   "codemirror_mode": {
    "name": "ipython",
    "version": 3
   },
   "file_extension": ".py",
   "mimetype": "text/x-python",
   "name": "python",
   "nbconvert_exporter": "python",
   "pygments_lexer": "ipython3",
   "version": "3.11.2"
  }
 },
 "nbformat": 4,
 "nbformat_minor": 2
}
