{
 "cells": [
  {
   "cell_type": "code",
   "execution_count": 1,
   "metadata": {},
   "outputs": [],
   "source": [
    "from src.cfg import CFG\n",
    "from src.cky import CKY"
   ]
  },
  {
   "cell_type": "code",
   "execution_count": null,
   "metadata": {},
   "outputs": [],
   "source": [
    "rules = {\n",
    "    'S': {'AB'},\n",
    "    'A': {'aAb', ''},\n",
    "    'B': {'bBc', ''}\n",
    "}\n",
    "\n",
    "prules = {\n",
    "    'S': {('AB', 0.8), ('b', 0.1), ('c', 0.1)},\n",
    "    'A': {('a', 0.5), ('c', 0.5)},\n",
    "    'B': {('b', 0.7), ('c', 0.3)},\n",
    "}\n",
    "\t\t\t\n",
    "cfg = CFG(rules=prules, start_symbol='S', probabilistic=True)"
   ]
  },
  {
   "cell_type": "code",
   "execution_count": null,
   "metadata": {},
   "outputs": [],
   "source": [
    "generated_words = cfg.generate_words(10)\n",
    "generated_words"
   ]
  },
  {
   "cell_type": "code",
   "execution_count": null,
   "metadata": {},
   "outputs": [],
   "source": [
    "cky = CKY(cfg)"
   ]
  },
  {
   "cell_type": "code",
   "execution_count": null,
   "metadata": {},
   "outputs": [],
   "source": [
    "words = generated_words\n",
    "\n",
    "results = []\n",
    "for word in words:\n",
    "\tresult = cky.parse(word[0])\n",
    "\tresults.append(result)\n",
    "\tif not cfg.is_probabilistic():\n",
    "\t\tprint(f'{word[0]}: {result}')\n",
    "\telse:\n",
    "\t\tprint(f'{word[0]}: {result[0]} [{result[1]}]')\n",
    "\n",
    "num_trues = sum([result[0] for result in results])\n",
    "print(f\"\\nTrue values: {num_trues}\\nFalse values: {len(results) - num_trues}\")\n",
    "\t"
   ]
  }
 ],
 "metadata": {
  "kernelspec": {
   "display_name": "Python 3",
   "language": "python",
   "name": "python3"
  },
  "language_info": {
   "codemirror_mode": {
    "name": "ipython",
    "version": 3
   },
   "file_extension": ".py",
   "mimetype": "text/x-python",
   "name": "python",
   "nbconvert_exporter": "python",
   "pygments_lexer": "ipython3",
   "version": "3.11.2"
  }
 },
 "nbformat": 4,
 "nbformat_minor": 2
}
