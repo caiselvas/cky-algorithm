{
 "cells": [
  {
   "cell_type": "code",
   "execution_count": 2,
   "metadata": {},
   "outputs": [],
   "source": [
    "from cfg import CFG\n",
    "# from cky import CKY"
   ]
  },
  {
   "cell_type": "code",
   "execution_count": 3,
   "metadata": {},
   "outputs": [
    {
     "name": "stdout",
     "output_type": "stream",
     "text": [
      "Initial CFG:\n",
      " CFG(\n",
      "\tS --> AB\n",
      "\tA --> aAb | ε\n",
      "\tB --> bBc | ε\n",
      ")\n",
      "\n",
      "* Start Symbol: S\n",
      "* Terminal Symbols: {a, b, c, ε}\n",
      "* Non-Terminal Symbols: {S, A, B}\n",
      "\n",
      "Converted CFG to CNF:\n",
      " CFG(\n",
      "\tC --> S | ε\n",
      "\tS --> AB | DG | EF | FG | HF\n",
      "\tA --> EF | HF\n",
      "\tB --> DG | FG\n",
      "\tD --> B | b\n",
      "\tE --> A | a\n",
      "\tF --> b\n",
      "\tG --> c\n",
      "\tH --> a\n",
      ")\n",
      "\n",
      "* Start Symbol: C\n",
      "* Terminal Symbols: {a, b, c, ε}\n",
      "* Non-Terminal Symbols: {C, S, A, B, D, E, F, G, H}\n",
      "\n"
     ]
    },
    {
     "name": "stderr",
     "output_type": "stream",
     "text": [
      "c:\\Users\\Cai Selvas Sala\\GIA_UPC\\2nC\\2nQ\\PAA\\Practica\\cky-algorithm\\cfg.py:43: UserWarning: The provided CFG is not in CNF. Converting to CNF. Some productions and symbols may change.\n",
      "  warnings.warn(\"The provided CFG is not in CNF. Converting to CNF. Some productions and symbols may change.\", UserWarning)\n"
     ]
    },
    {
     "ename": "AssertionError",
     "evalue": "The CFG could not be converted to CNF successfully. Please check the grammar and try again.",
     "output_type": "error",
     "traceback": [
      "\u001b[1;31m---------------------------------------------------------------------------\u001b[0m",
      "\u001b[1;31mAssertionError\u001b[0m                            Traceback (most recent call last)",
      "Cell \u001b[1;32mIn[3], line 8\u001b[0m\n\u001b[0;32m      1\u001b[0m rules \u001b[38;5;241m=\u001b[39m {\n\u001b[0;32m      2\u001b[0m     \u001b[38;5;124m'\u001b[39m\u001b[38;5;124mS\u001b[39m\u001b[38;5;124m'\u001b[39m: {\u001b[38;5;124m'\u001b[39m\u001b[38;5;124mAB\u001b[39m\u001b[38;5;124m'\u001b[39m},\n\u001b[0;32m      3\u001b[0m     \u001b[38;5;124m'\u001b[39m\u001b[38;5;124mA\u001b[39m\u001b[38;5;124m'\u001b[39m: {\u001b[38;5;124m'\u001b[39m\u001b[38;5;124maAb\u001b[39m\u001b[38;5;124m'\u001b[39m, \u001b[38;5;124m'\u001b[39m\u001b[38;5;124m'\u001b[39m},\n\u001b[0;32m      4\u001b[0m     \u001b[38;5;124m'\u001b[39m\u001b[38;5;124mB\u001b[39m\u001b[38;5;124m'\u001b[39m: {\u001b[38;5;124m'\u001b[39m\u001b[38;5;124mbBc\u001b[39m\u001b[38;5;124m'\u001b[39m, \u001b[38;5;124m'\u001b[39m\u001b[38;5;124m'\u001b[39m}\n\u001b[0;32m      5\u001b[0m }\n\u001b[0;32m      6\u001b[0m \u001b[38;5;66;03m# Non-ambiguous CFG for {a^i · b^j · c^k | j = i + k}\u001b[39;00m\n\u001b[1;32m----> 8\u001b[0m cfg \u001b[38;5;241m=\u001b[39m \u001b[43mCFG\u001b[49m\u001b[43m(\u001b[49m\u001b[43mrules\u001b[49m\u001b[38;5;241;43m=\u001b[39;49m\u001b[43mrules\u001b[49m\u001b[43m,\u001b[49m\u001b[43m \u001b[49m\u001b[43mstart_symbol\u001b[49m\u001b[38;5;241;43m=\u001b[39;49m\u001b[38;5;124;43m'\u001b[39;49m\u001b[38;5;124;43mS\u001b[39;49m\u001b[38;5;124;43m'\u001b[39;49m\u001b[43m)\u001b[49m\n",
      "File \u001b[1;32mc:\\Users\\Cai Selvas Sala\\GIA_UPC\\2nC\\2nQ\\PAA\\Practica\\cky-algorithm\\cfg.py:44\u001b[0m, in \u001b[0;36mCFG.__init__\u001b[1;34m(self, rules, start_symbol)\u001b[0m\n\u001b[0;32m     42\u001b[0m \u001b[38;5;28;01mif\u001b[39;00m \u001b[38;5;129;01mnot\u001b[39;00m \u001b[38;5;28mself\u001b[39m\u001b[38;5;241m.\u001b[39mis_cnf():\n\u001b[0;32m     43\u001b[0m \twarnings\u001b[38;5;241m.\u001b[39mwarn(\u001b[38;5;124m\"\u001b[39m\u001b[38;5;124mThe provided CFG is not in CNF. Converting to CNF. Some productions and symbols may change.\u001b[39m\u001b[38;5;124m\"\u001b[39m, \u001b[38;5;167;01mUserWarning\u001b[39;00m)\n\u001b[1;32m---> 44\u001b[0m \t\u001b[38;5;28;43mself\u001b[39;49m\u001b[38;5;241;43m.\u001b[39;49m\u001b[43mto_cnf\u001b[49m\u001b[43m(\u001b[49m\u001b[43m)\u001b[49m\n",
      "File \u001b[1;32mc:\\Users\\Cai Selvas Sala\\GIA_UPC\\2nC\\2nQ\\PAA\\Practica\\cky-algorithm\\cfg.py:271\u001b[0m, in \u001b[0;36mCFG.to_cnf\u001b[1;34m(self)\u001b[0m\n\u001b[0;32m    267\u001b[0m \u001b[38;5;28mself\u001b[39m\u001b[38;5;241m.\u001b[39mstart_symbol \u001b[38;5;241m=\u001b[39m \u001b[38;5;28mself\u001b[39m\u001b[38;5;241m.\u001b[39mfind_start_symbol()\n\u001b[0;32m    269\u001b[0m \u001b[38;5;28mprint\u001b[39m(\u001b[38;5;124m\"\u001b[39m\u001b[38;5;124mConverted CFG to CNF:\u001b[39m\u001b[38;5;130;01m\\n\u001b[39;00m\u001b[38;5;124m\"\u001b[39m, \u001b[38;5;28mself\u001b[39m)\n\u001b[1;32m--> 271\u001b[0m \u001b[38;5;28;01massert\u001b[39;00m \u001b[38;5;28mself\u001b[39m\u001b[38;5;241m.\u001b[39mis_cnf(), \u001b[38;5;124m\"\u001b[39m\u001b[38;5;124mThe CFG could not be converted to CNF successfully. Please check the grammar and try again.\u001b[39m\u001b[38;5;124m\"\u001b[39m\n",
      "\u001b[1;31mAssertionError\u001b[0m: The CFG could not be converted to CNF successfully. Please check the grammar and try again."
     ]
    }
   ],
   "source": [
    "rules = {\n",
    "    'S': {'AB'},\n",
    "    'A': {'aAb', ''},\n",
    "    'B': {'bBc', ''}\n",
    "}\n",
    "# Non-ambiguous CFG for {a^i · b^j · c^k | j = i + k}\n",
    "\t\t\t\n",
    "cfg = CFG(rules=rules, start_symbol='S')"
   ]
  },
  {
   "cell_type": "code",
   "execution_count": null,
   "metadata": {},
   "outputs": [],
   "source": [
    "sorted(cfg.generate_words(6))"
   ]
  },
  {
   "cell_type": "code",
   "execution_count": null,
   "metadata": {},
   "outputs": [],
   "source": [
    "cky = CKY(cfg)"
   ]
  },
  {
   "cell_type": "code",
   "execution_count": null,
   "metadata": {},
   "outputs": [],
   "source": [
    "words = list(sorted(cfg.generate_words(6)))\n",
    "print()\n",
    "\n",
    "for word in words:\n",
    "\tprint(cky.parse(word))"
   ]
  },
  {
   "cell_type": "markdown",
   "metadata": {},
   "source": [
    "## PROBABILISTIC"
   ]
  },
  {
   "cell_type": "code",
   "execution_count": null,
   "metadata": {},
   "outputs": [],
   "source": [
    "# Ejemplo de uso:\n",
    "rules = {\n",
    "    'S': [('AB', 0.9), ('BC', 0.1)],\n",
    "    'A': [('BA', 0.5), ('a', 0.5)],\n",
    "    'B': [('CC', 0.7), ('b', 0.3)],\n",
    "    'C': [('AB', 0.6), ('a', 0.4)]\n",
    "}\n",
    "\n",
    "grammar = PCFG(rules, 'S')\n",
    "cky = CKY(grammar)\n",
    "\n",
    "word = \"ab\"\n",
    "probability = cky.parse(word)\n",
    "print(f\"The probability of the word '{word}' being in the language generated by the grammar is {probability}\")"
   ]
  }
 ],
 "metadata": {
  "kernelspec": {
   "display_name": "Python 3",
   "language": "python",
   "name": "python3"
  },
  "language_info": {
   "codemirror_mode": {
    "name": "ipython",
    "version": 3
   },
   "file_extension": ".py",
   "mimetype": "text/x-python",
   "name": "python",
   "nbconvert_exporter": "python",
   "pygments_lexer": "ipython3",
   "version": "3.11.2"
  }
 },
 "nbformat": 4,
 "nbformat_minor": 2
}
