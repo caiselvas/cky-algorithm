{
 "cells": [
  {
   "cell_type": "code",
   "execution_count": 1,
   "metadata": {},
   "outputs": [],
   "source": [
    "from cfg import CFG\n",
    "from cky import CKY"
   ]
  },
  {
   "cell_type": "code",
   "execution_count": 2,
   "metadata": {},
   "outputs": [],
   "source": [
    "cnf = {\n",
    "\t'E': ['', 'b', 'AX', 'YX', 'YZ'],\n",
    "\t'S': ['b', 'AZ', 'YX', 'YZ'],\n",
    "\t'A': ['b', 'AZ'],\n",
    "\t'X': ['SZ'],\n",
    "\t'Y': ['a'],\n",
    "\t'Z': ['b']\n",
    "}\n",
    "\t\t\t\n",
    "cfg = CFG(cnf)"
   ]
  },
  {
   "cell_type": "code",
   "execution_count": 3,
   "metadata": {},
   "outputs": [
    {
     "name": "stdout",
     "output_type": "stream",
     "text": [
      "CFG(\n",
      "\tE --> AX | YX | YZ | b | ε\n",
      "\tS --> AZ | YX | YZ | b\n",
      "\tA --> AZ | b\n",
      "\tX --> SZ\n",
      "\tY --> a\n",
      "\tZ --> b\n",
      ")\n",
      "\n",
      "* Start Symbol: E\n",
      "* Terminal Symbols: {a, b, ε}\n",
      "* Non-Terminal Symbols: {E, A, S, X, Y, Z}\n"
     ]
    }
   ],
   "source": [
    "print(cfg)"
   ]
  },
  {
   "cell_type": "code",
   "execution_count": 4,
   "metadata": {},
   "outputs": [],
   "source": [
    "cky = CKY(cfg)"
   ]
  },
  {
   "cell_type": "code",
   "execution_count": 5,
   "metadata": {},
   "outputs": [
    {
     "name": "stdout",
     "output_type": "stream",
     "text": [
      "True\n",
      "False\n",
      "False\n",
      "True\n",
      "False\n",
      "False\n",
      "True\n",
      "True\n"
     ]
    }
   ],
   "source": [
    "words = [\n",
    "\t'aabb',\n",
    "\t'abab',\n",
    "\t'abba',\n",
    "\t'abbb',\n",
    "\t'aaab',\n",
    "\t'a',\n",
    "\t'b',\n",
    "\t''\n",
    "]\n",
    "\n",
    "for word in words:\n",
    "\tprint(cky.parse(word))"
   ]
  }
 ],
 "metadata": {
  "kernelspec": {
   "display_name": "Python 3",
   "language": "python",
   "name": "python3"
  },
  "language_info": {
   "codemirror_mode": {
    "name": "ipython",
    "version": 3
   },
   "file_extension": ".py",
   "mimetype": "text/x-python",
   "name": "python",
   "nbconvert_exporter": "python",
   "pygments_lexer": "ipython3",
   "version": "3.11.2"
  }
 },
 "nbformat": 4,
 "nbformat_minor": 2
}
